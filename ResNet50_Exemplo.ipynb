{
  "nbformat": 4,
  "nbformat_minor": 0,
  "metadata": {
    "colab": {
      "name": "ResNet50_Exemplo.ipynb",
      "provenance": [],
      "include_colab_link": true
    },
    "kernelspec": {
      "name": "python3",
      "display_name": "Python 3"
    }
  },
  "cells": [
    {
      "cell_type": "markdown",
      "metadata": {
        "id": "view-in-github",
        "colab_type": "text"
      },
      "source": [
        "<a href=\"https://colab.research.google.com/github/paulosalvatore/Ocean_DeepLearning_13_08_2021/blob/main/ResNet50_Exemplo.ipynb\" target=\"_parent\"><img src=\"https://colab.research.google.com/assets/colab-badge.svg\" alt=\"Open In Colab\"/></a>"
      ]
    },
    {
      "cell_type": "code",
      "metadata": {
        "id": "EK_V4SammSP2",
        "colab": {
          "base_uri": "https://localhost:8080/"
        },
        "outputId": "a5e2abb5-ef4a-4972-8017-029753e09bfb"
      },
      "source": [
        "from keras.applications.resnet50 import ResNet50\n",
        "from keras.preprocessing import image\n",
        "from keras.applications.resnet50 import preprocess_input, decode_predictions\n",
        "import numpy as np\n",
        "\n",
        "model = ResNet50(weights='imagenet')"
      ],
      "execution_count": null,
      "outputs": [
        {
          "output_type": "stream",
          "text": [
            "Downloading data from https://storage.googleapis.com/tensorflow/keras-applications/resnet/resnet50_weights_tf_dim_ordering_tf_kernels.h5\n",
            " 67117056/102967424 [==================>...........] - ETA: 2s"
          ],
          "name": "stdout"
        }
      ]
    },
    {
      "cell_type": "code",
      "metadata": {
        "id": "sVTdw_bPm9fQ",
        "colab": {
          "base_uri": "https://localhost:8080/",
          "height": 54
        },
        "outputId": "90d68b64-9e04-4c3c-c984-2f2a2525a6dd"
      },
      "source": [
        "img_path = 'moto3.png'\n",
        "\n",
        "img = image.load_img(img_path, target_size=(224, 224))\n",
        "x = image.img_to_array(img)\n",
        "x = np.expand_dims(x, axis=0)\n",
        "x = preprocess_input(x)\n",
        "\n",
        "predictions = model.predict(x)\n",
        "\n",
        "print(\"Previsão:\", decode_predictions(predictions, top=10))"
      ],
      "execution_count": null,
      "outputs": [
        {
          "output_type": "stream",
          "text": [
            "Previsão: [[('n03785016', 'moped', 0.46874762), ('n03208938', 'disk_brake', 0.16678537), ('n02769748', 'backpack', 0.15013427), ('n03792782', 'mountain_bike', 0.07015671), ('n03127747', 'crash_helmet', 0.05377466), ('n03791053', 'motor_scooter', 0.036014907), ('n02835271', 'bicycle-built-for-two', 0.016398093), ('n04482393', 'tricycle', 0.0056615593), ('n03814639', 'neck_brace', 0.003348608), ('n04235860', 'sleeping_bag', 0.0025822949)]]\n"
          ],
          "name": "stdout"
        }
      ]
    }
  ]
}