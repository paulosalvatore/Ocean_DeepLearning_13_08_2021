{
  "nbformat": 4,
  "nbformat_minor": 0,
  "metadata": {
    "colab": {
      "name": "Ocean_DeepLearning_13_08_2021.ipynb",
      "provenance": [],
      "collapsed_sections": [],
      "authorship_tag": "ABX9TyNyzB6/X2h3sm67IqDsWkIH",
      "include_colab_link": true
    },
    "kernelspec": {
      "name": "python3",
      "display_name": "Python 3"
    },
    "language_info": {
      "name": "python"
    }
  },
  "cells": [
    {
      "cell_type": "markdown",
      "metadata": {
        "id": "view-in-github",
        "colab_type": "text"
      },
      "source": [
        "<a href=\"https://colab.research.google.com/github/paulosalvatore/Ocean_DeepLearning_13_08_2021/blob/main/Ocean_DeepLearning_13_08_2021.ipynb\" target=\"_parent\"><img src=\"https://colab.research.google.com/assets/colab-badge.svg\" alt=\"Open In Colab\"/></a>"
      ]
    },
    {
      "cell_type": "code",
      "metadata": {
        "colab": {
          "base_uri": "https://localhost:8080/",
          "height": 223
        },
        "id": "0fPBfME_ce9O",
        "outputId": "4d68c321-18e4-4271-bb17-d72b63c49be4"
      },
      "source": [
        "# Tensorflow\n",
        "# Keras\n",
        "# Redes Neurais\n",
        "\n",
        "# Glossário de Python\n",
        "\n",
        "# Exibir informações\n",
        "print(\"Hello, world!\")\n",
        "\n",
        "# Declarar uma variável\n",
        "numero = 20\n",
        "print(numero, type(numero))\n",
        "\n",
        "# Trabalhar com listas e exibir tipo das informações\n",
        "lista = [10, 20, 30]\n",
        "print(lista, type(lista))\n",
        "\n",
        "# Pegar elementos da lista\n",
        "elemento_da_lista = lista[0]\n",
        "print(elemento_da_lista, type(elemento_da_lista))\n",
        "\n",
        "# Mudar elementos da lista\n",
        "lista[1] = 99\n",
        "print(lista, type(lista), type(lista[1]))\n",
        "\n",
        "# Quantidade de elementos da lista\n",
        "quantidade_elementos = len(lista)\n",
        "print(\"Quantidade de elementos\", quantidade_elementos, type(quantidade_elementos))\n",
        "\n",
        "# Tupla\n",
        "tupla = (51, 62, 79)\n",
        "print(tupla, type(tupla))\n",
        "\n",
        "tupla2 = 99, 11, 13\n",
        "print(tupla2, type(tupla2))\n",
        "\n",
        "tupla3 = 10, 5\n",
        "print(tupla3, type(tupla3))\n",
        "\n",
        "# Acessando elementos da tupla\n",
        "elemento_da_tupla = tupla[0]\n",
        "print(elemento_da_tupla, type(elemento_da_tupla))\n",
        "\n",
        "# Tupla vs Lista?\n",
        "# Tuplas não podem ser modificadas\n",
        "# TypeError: 'tuple' object does not support item assignment\n",
        "# tupla[0] = 30\n",
        "\n",
        "# Atalho para comentar: Ctrl + /\n",
        "\n",
        "tupla4 = 9, 6, 3, 2\n",
        "print(tupla4, type(tupla4))\n",
        "\n",
        "\"\"\"\n",
        "tupla4_em_lista = list(tupla4)\n",
        "tupla4_em_lista[0] = 99\n",
        "tupla4_lista_em_tupla_novamente = tuple(tupla4_em_lista)\n",
        "print(tupla4_lista_em_tupla_novamente, type(tupla4_lista_em_tupla_novamente))\n",
        "\"\"\"\n",
        "\n",
        "# Comentários de uma linha\n",
        "\"\"\"\n",
        "Comentários\n",
        "de\n",
        "várias\n",
        "linhas\n",
        "\"\"\""
      ],
      "execution_count": 1,
      "outputs": [
        {
          "output_type": "stream",
          "text": [
            "Hello, world!\n",
            "20 <class 'int'>\n",
            "[10, 20, 30] <class 'list'>\n",
            "10 <class 'int'>\n",
            "[10, 99, 30] <class 'list'> <class 'int'>\n",
            "Quantidade de elementos 3 <class 'int'>\n",
            "(51, 62, 79) <class 'tuple'>\n",
            "(99, 11, 13) <class 'tuple'>\n",
            "(10, 5) <class 'tuple'>\n",
            "51 <class 'int'>\n",
            "(9, 6, 3, 2) <class 'tuple'>\n"
          ],
          "name": "stdout"
        },
        {
          "output_type": "execute_result",
          "data": {
            "application/vnd.google.colaboratory.intrinsic+json": {
              "type": "string"
            },
            "text/plain": [
              "'\\nComentários\\nde\\nvárias\\nlinhas\\n'"
            ]
          },
          "metadata": {
            "tags": []
          },
          "execution_count": 1
        }
      ]
    },
    {
      "cell_type": "code",
      "metadata": {
        "id": "aZwf1XtCjEDq"
      },
      "source": [
        "nome = \"Paulo Salvatore\"\n",
        "\n",
        "contador = 0"
      ],
      "execution_count": 2,
      "outputs": []
    },
    {
      "cell_type": "code",
      "metadata": {
        "colab": {
          "base_uri": "https://localhost:8080/"
        },
        "id": "drFgzkhfi4g0",
        "outputId": "d69596bd-ae95-4669-c54d-6497d1903a2c"
      },
      "source": [
        "# Nova célula\n",
        "\n",
        "print(nome)\n",
        "\n",
        "contador = contador + 1\n",
        "print(f\"Esse nome foi exibido {contador} vez(es)!\")"
      ],
      "execution_count": 3,
      "outputs": [
        {
          "output_type": "stream",
          "text": [
            "Paulo Salvatore\n",
            "Esse nome foi exibido 1 vez(es)!\n"
          ],
          "name": "stdout"
        }
      ]
    },
    {
      "cell_type": "code",
      "metadata": {
        "id": "Gn2AVQyYkYmS"
      },
      "source": [
        "# Importar Tensorflow, Keras e todas as ferramentas/bibliotecas que precisamos!\n",
        "\n",
        "from tensorflow import keras # Importa a biblioteca Keras\n",
        "\n",
        "from keras.datasets import mnist # Base de Dados MNIST - 60k imagens treino, 10k imagens teste\n",
        "\n",
        "from tensorflow.python.keras import Sequential # Arquitetura da nossa rede neural\n",
        "from tensorflow.python.keras.layers import Dense, Dropout # Neurônio (base da rede) e Regularizador (evita overfitting)\n",
        "from tensorflow.compat.v1.keras.optimizers import RMSprop # Otimizador (back propagation)"
      ],
      "execution_count": 4,
      "outputs": []
    },
    {
      "cell_type": "code",
      "metadata": {
        "id": "3wl3fAikmU9Y"
      },
      "source": [
        "(x_treino, y_treino), (x_teste, y_teste) = mnist.load_data()\n",
        "\n",
        "# X_Treino -> 60k imagens, 28x28 pixels\n",
        "# Y_Treino -> 60k labels, contendo o número que está desenhado na imagem\n",
        "\n",
        "# X_Teste -> 10k imagens, 28x28 pixels\n",
        "# Y_Teste -> 10k labels, contendo o número que está desenhado na imagem"
      ],
      "execution_count": 7,
      "outputs": []
    },
    {
      "cell_type": "code",
      "metadata": {
        "colab": {
          "base_uri": "https://localhost:8080/"
        },
        "id": "jRZEqixonN4w",
        "outputId": "d7db5427-2161-4f62-9542-9e4364dfd209"
      },
      "source": [
        "# Após importar os dados, é importante dar uma analisada para ver o que temos no dataset\n",
        "# e como ele está estruturado\n",
        "\n",
        "print(\"Quantidade de imagens para treino:\", len(x_treino))\n",
        "\n",
        "print(\"Quantidade de imagens para teste:\", len(x_teste))\n",
        "\n",
        "print(\"Tipo de x_treino:\", type(x_treino))\n",
        "\n",
        "primeira_imagem = x_treino[0]\n",
        "\n",
        "representacao_primeira_imagem = y_treino[0]\n",
        "\n",
        "print(\"O que a imagem 0 de treino representa?\", representacao_primeira_imagem)\n",
        "\n",
        "print(\"Formato da primeira imagem:\", primeira_imagem.shape, type(primeira_imagem))\n",
        "\n",
        "print(primeira_imagem)"
      ],
      "execution_count": 11,
      "outputs": [
        {
          "output_type": "stream",
          "text": [
            "Quantidade de imagens para treino: 60000\n",
            "Quantidade de imagens para teste: 10000\n",
            "Tipo de x_treino: <class 'numpy.ndarray'>\n",
            "O que a imagem 0 de treino representa? 5\n",
            "Formato da primeira imagem: (28, 28) <class 'numpy.ndarray'>\n",
            "[[  0   0   0   0   0   0   0   0   0   0   0   0   0   0   0   0   0   0\n",
            "    0   0   0   0   0   0   0   0   0   0]\n",
            " [  0   0   0   0   0   0   0   0   0   0   0   0   0   0   0   0   0   0\n",
            "    0   0   0   0   0   0   0   0   0   0]\n",
            " [  0   0   0   0   0   0   0   0   0   0   0   0   0   0   0   0   0   0\n",
            "    0   0   0   0   0   0   0   0   0   0]\n",
            " [  0   0   0   0   0   0   0   0   0   0   0   0   0   0   0   0   0   0\n",
            "    0   0   0   0   0   0   0   0   0   0]\n",
            " [  0   0   0   0   0   0   0   0   0   0   0   0   0   0   0   0   0   0\n",
            "    0   0   0   0   0   0   0   0   0   0]\n",
            " [  0   0   0   0   0   0   0   0   0   0   0   0   3  18  18  18 126 136\n",
            "  175  26 166 255 247 127   0   0   0   0]\n",
            " [  0   0   0   0   0   0   0   0  30  36  94 154 170 253 253 253 253 253\n",
            "  225 172 253 242 195  64   0   0   0   0]\n",
            " [  0   0   0   0   0   0   0  49 238 253 253 253 253 253 253 253 253 251\n",
            "   93  82  82  56  39   0   0   0   0   0]\n",
            " [  0   0   0   0   0   0   0  18 219 253 253 253 253 253 198 182 247 241\n",
            "    0   0   0   0   0   0   0   0   0   0]\n",
            " [  0   0   0   0   0   0   0   0  80 156 107 253 253 205  11   0  43 154\n",
            "    0   0   0   0   0   0   0   0   0   0]\n",
            " [  0   0   0   0   0   0   0   0   0  14   1 154 253  90   0   0   0   0\n",
            "    0   0   0   0   0   0   0   0   0   0]\n",
            " [  0   0   0   0   0   0   0   0   0   0   0 139 253 190   2   0   0   0\n",
            "    0   0   0   0   0   0   0   0   0   0]\n",
            " [  0   0   0   0   0   0   0   0   0   0   0  11 190 253  70   0   0   0\n",
            "    0   0   0   0   0   0   0   0   0   0]\n",
            " [  0   0   0   0   0   0   0   0   0   0   0   0  35 241 225 160 108   1\n",
            "    0   0   0   0   0   0   0   0   0   0]\n",
            " [  0   0   0   0   0   0   0   0   0   0   0   0   0  81 240 253 253 119\n",
            "   25   0   0   0   0   0   0   0   0   0]\n",
            " [  0   0   0   0   0   0   0   0   0   0   0   0   0   0  45 186 253 253\n",
            "  150  27   0   0   0   0   0   0   0   0]\n",
            " [  0   0   0   0   0   0   0   0   0   0   0   0   0   0   0  16  93 252\n",
            "  253 187   0   0   0   0   0   0   0   0]\n",
            " [  0   0   0   0   0   0   0   0   0   0   0   0   0   0   0   0   0 249\n",
            "  253 249  64   0   0   0   0   0   0   0]\n",
            " [  0   0   0   0   0   0   0   0   0   0   0   0   0   0  46 130 183 253\n",
            "  253 207   2   0   0   0   0   0   0   0]\n",
            " [  0   0   0   0   0   0   0   0   0   0   0   0  39 148 229 253 253 253\n",
            "  250 182   0   0   0   0   0   0   0   0]\n",
            " [  0   0   0   0   0   0   0   0   0   0  24 114 221 253 253 253 253 201\n",
            "   78   0   0   0   0   0   0   0   0   0]\n",
            " [  0   0   0   0   0   0   0   0  23  66 213 253 253 253 253 198  81   2\n",
            "    0   0   0   0   0   0   0   0   0   0]\n",
            " [  0   0   0   0   0   0  18 171 219 253 253 253 253 195  80   9   0   0\n",
            "    0   0   0   0   0   0   0   0   0   0]\n",
            " [  0   0   0   0  55 172 226 253 253 253 253 244 133  11   0   0   0   0\n",
            "    0   0   0   0   0   0   0   0   0   0]\n",
            " [  0   0   0   0 136 253 253 253 212 135 132  16   0   0   0   0   0   0\n",
            "    0   0   0   0   0   0   0   0   0   0]\n",
            " [  0   0   0   0   0   0   0   0   0   0   0   0   0   0   0   0   0   0\n",
            "    0   0   0   0   0   0   0   0   0   0]\n",
            " [  0   0   0   0   0   0   0   0   0   0   0   0   0   0   0   0   0   0\n",
            "    0   0   0   0   0   0   0   0   0   0]\n",
            " [  0   0   0   0   0   0   0   0   0   0   0   0   0   0   0   0   0   0\n",
            "    0   0   0   0   0   0   0   0   0   0]]\n"
          ],
          "name": "stdout"
        }
      ]
    }
  ]
}