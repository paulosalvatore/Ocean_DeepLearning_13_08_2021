{
  "nbformat": 4,
  "nbformat_minor": 0,
  "metadata": {
    "colab": {
      "name": "Ocean_DeepLearning_13_08_2021.ipynb",
      "provenance": [],
      "collapsed_sections": [],
      "authorship_tag": "ABX9TyORQO5aLiYLUI2bQk4/xHso",
      "include_colab_link": true
    },
    "kernelspec": {
      "name": "python3",
      "display_name": "Python 3"
    },
    "language_info": {
      "name": "python"
    }
  },
  "cells": [
    {
      "cell_type": "markdown",
      "metadata": {
        "id": "view-in-github",
        "colab_type": "text"
      },
      "source": [
        "<a href=\"https://colab.research.google.com/github/paulosalvatore/Ocean_DeepLearning_13_08_2021/blob/main/Ocean_DeepLearning_13_08_2021.ipynb\" target=\"_parent\"><img src=\"https://colab.research.google.com/assets/colab-badge.svg\" alt=\"Open In Colab\"/></a>"
      ]
    },
    {
      "cell_type": "code",
      "metadata": {
        "colab": {
          "base_uri": "https://localhost:8080/"
        },
        "id": "0fPBfME_ce9O",
        "outputId": "3d3f27d3-04de-4ca6-8ade-d4bb5d0ed897"
      },
      "source": [
        "# Tensorflow\n",
        "# Keras\n",
        "# Redes Neurais\n",
        "\n",
        "# Glossário de Python\n",
        "\n",
        "# Exibir informações\n",
        "print(\"Hello, world!\")\n",
        "\n",
        "# Declarar uma variável\n",
        "numero = 20\n",
        "print(numero, type(numero))\n",
        "\n",
        "# Trabalhar com listas e exibir tipo das informações\n",
        "lista = [10, 20, 30]\n",
        "print(lista, type(lista))\n",
        "\n",
        "# Pegar elementos da lista\n",
        "elemento_da_lista = lista[0]\n",
        "print(elemento_da_lista, type(elemento_da_lista))\n",
        "\n",
        "# Mudar elementos da lista\n",
        "lista[1] = 99\n",
        "print(lista, type(lista), type(lista[1]))\n",
        "\n",
        "# Quantidade de elementos da lista\n",
        "quantidade_elementos = len(lista)\n",
        "print(\"Quantidade de elementos\", quantidade_elementos, type(quantidade_elementos))\n",
        "\n",
        "# Tupla\n",
        "tupla = (51, 62, 79)\n",
        "print(tupla, type(tupla))\n",
        "\n",
        "tupla2 = 99, 11, 13\n",
        "print(tupla2, type(tupla2))\n",
        "\n",
        "tupla3 = 10, 5\n",
        "print(tupla3, type(tupla3))\n",
        "\n",
        "# Acessando elementos da tupla\n",
        "elemento_da_tupla = tupla[0]\n",
        "print(elemento_da_tupla, type(elemento_da_tupla))\n",
        "\n",
        "# Tupla vs Lista?\n",
        "# Tuplas não podem ser modificadas\n",
        "# TypeError: 'tuple' object does not support item assignment\n",
        "# tupla[0] = 30\n",
        "\n",
        "# Atalho para comentar: Ctrl + /\n",
        "\n",
        "tupla4 = 9, 6, 3, 2\n",
        "print(tupla4, type(tupla4))\n",
        "\n",
        "\"\"\"\n",
        "tupla4_em_lista = list(tupla4)\n",
        "tupla4_em_lista[0] = 99\n",
        "tupla4_lista_em_tupla_novamente = tuple(tupla4_em_lista)\n",
        "print(tupla4_lista_em_tupla_novamente, type(tupla4_lista_em_tupla_novamente))\n",
        "\"\"\"\n",
        "\n",
        "# Comentários de uma linha\n",
        "\"\"\"\n",
        "Comentários\n",
        "de\n",
        "várias\n",
        "linhas\n",
        "\"\"\""
      ],
      "execution_count": 14,
      "outputs": [
        {
          "output_type": "stream",
          "text": [
            "Hello, world!\n",
            "20 <class 'int'>\n",
            "[10, 20, 30] <class 'list'>\n",
            "10 <class 'int'>\n",
            "[10, 99, 30] <class 'list'> <class 'int'>\n",
            "Quantidade de elementos 3 <class 'int'>\n",
            "(51, 62, 79) <class 'tuple'>\n",
            "(99, 11, 13) <class 'tuple'>\n",
            "(10, 5) <class 'tuple'>\n",
            "51 <class 'int'>\n",
            "(9, 6, 3, 2) <class 'tuple'>\n",
            "(99, 6, 3, 2) <class 'tuple'>\n"
          ],
          "name": "stdout"
        }
      ]
    }
  ]
}